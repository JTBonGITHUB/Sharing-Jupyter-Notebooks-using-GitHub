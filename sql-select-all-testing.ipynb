{
    "metadata": {
        "kernelspec": {
            "name": "SQL",
            "display_name": "SQL",
            "language": "sql"
        },
        "language_info": {
            "name": "sql",
            "version": ""
        }
    },
    "nbformat_minor": 2,
    "nbformat": 4,
    "cells": [
        {
            "cell_type": "markdown",
            "source": [
                "# Markdown in Azure Data Studio\r\n",
                "## This is markdown in the Notebooks.\r\n",
                "### keep typing in markdown."
            ],
            "metadata": {
                "azdata_cell_guid": "9872e3a7-533f-4978-be84-8365b833d2a5"
            }
        },
        {
            "cell_type": "markdown",
            "source": [
                "sample text test."
            ],
            "metadata": {
                "azdata_cell_guid": "e876de32-feed-499f-8b4f-e75628a3485e"
            }
        },
        {
            "cell_type": "code",
            "source": [
                "SELECT * FROM\n",
                "BikeStores.sales.customers AS cust\n",
                "WHERE cust.[state] = 'CA' AND cust.zip_code = '95008'\n",
                ";"
            ],
            "metadata": {
                "azdata_cell_guid": "b7f254f8-6681-45a2-bf6c-6c6ccbced950",
                "tags": []
            },
            "outputs": [
                {
                    "output_type": "display_data",
                    "data": {
                        "text/html": "(10 rows affected)"
                    },
                    "metadata": {}
                },
                {
                    "output_type": "display_data",
                    "data": {
                        "text/html": "Total execution time: 00:00:00.016"
                    },
                    "metadata": {}
                },
                {
                    "output_type": "execute_result",
                    "metadata": {},
                    "execution_count": 4,
                    "data": {
                        "application/vnd.dataresource+json": {
                            "schema": {
                                "fields": [
                                    {
                                        "name": "customer_id"
                                    },
                                    {
                                        "name": "first_name"
                                    },
                                    {
                                        "name": "last_name"
                                    },
                                    {
                                        "name": "phone"
                                    },
                                    {
                                        "name": "email"
                                    },
                                    {
                                        "name": "street"
                                    },
                                    {
                                        "name": "city"
                                    },
                                    {
                                        "name": "state"
                                    },
                                    {
                                        "name": "zip_code"
                                    }
                                ]
                            },
                            "data": [
                                {
                                    "0": "2",
                                    "1": "Kasha",
                                    "2": "Todd",
                                    "3": "NULL",
                                    "4": "kasha.todd@yahoo.com",
                                    "5": "910 Vine Street ",
                                    "6": "Campbell",
                                    "7": "CA",
                                    "8": "95008"
                                },
                                {
                                    "0": "104",
                                    "1": "Katharina",
                                    "2": "Bates",
                                    "3": "NULL",
                                    "4": "katharina.bates@gmail.com",
                                    "5": "54 South Greenview Drive ",
                                    "6": "Campbell",
                                    "7": "CA",
                                    "8": "95008"
                                },
                                {
                                    "0": "278",
                                    "1": "Myesha",
                                    "2": "Burgess",
                                    "3": "NULL",
                                    "4": "myesha.burgess@gmail.com",
                                    "5": "306 Trenton Rd. ",
                                    "6": "Campbell",
                                    "7": "CA",
                                    "8": "95008"
                                },
                                {
                                    "0": "554",
                                    "1": "Hilde",
                                    "2": "Nieves",
                                    "3": "NULL",
                                    "4": "hilde.nieves@gmail.com",
                                    "5": "9437 Fordham Lane ",
                                    "6": "Campbell",
                                    "7": "CA",
                                    "8": "95008"
                                },
                                {
                                    "0": "688",
                                    "1": "Pearlie",
                                    "2": "Cochran",
                                    "3": "NULL",
                                    "4": "pearlie.cochran@msn.com",
                                    "5": "23 Homewood Rd. ",
                                    "6": "Campbell",
                                    "7": "CA",
                                    "8": "95008"
                                },
                                {
                                    "0": "867",
                                    "1": "Rosalva",
                                    "2": "Hamilton",
                                    "3": "NULL",
                                    "4": "rosalva.hamilton@aol.com",
                                    "5": "9883 Cedar Dr. ",
                                    "6": "Campbell",
                                    "7": "CA",
                                    "8": "95008"
                                },
                                {
                                    "0": "1035",
                                    "1": "Tangela",
                                    "2": "Hurley",
                                    "3": "NULL",
                                    "4": "tangela.hurley@msn.com",
                                    "5": "49 North Cross St. ",
                                    "6": "Campbell",
                                    "7": "CA",
                                    "8": "95008"
                                },
                                {
                                    "0": "1231",
                                    "1": "Selene",
                                    "2": "Vega",
                                    "3": "NULL",
                                    "4": "selene.vega@gmail.com",
                                    "5": "11 Sierra St. ",
                                    "6": "Campbell",
                                    "7": "CA",
                                    "8": "95008"
                                },
                                {
                                    "0": "1366",
                                    "1": "Trena",
                                    "2": "Rogers",
                                    "3": "NULL",
                                    "4": "trena.rogers@aol.com",
                                    "5": "502 Sherwood St. ",
                                    "6": "Campbell",
                                    "7": "CA",
                                    "8": "95008"
                                },
                                {
                                    "0": "1367",
                                    "1": "Lucile",
                                    "2": "Manning",
                                    "3": "NULL",
                                    "4": "lucile.manning@yahoo.com",
                                    "5": "511 Livingston Lane ",
                                    "6": "Campbell",
                                    "7": "CA",
                                    "8": "95008"
                                }
                            ]
                        },
                        "text/html": "<table><tr><th>customer_id</th><th>first_name</th><th>last_name</th><th>phone</th><th>email</th><th>street</th><th>city</th><th>state</th><th>zip_code</th></tr><tr><td>2</td><td>Kasha</td><td>Todd</td><td>NULL</td><td>kasha.todd@yahoo.com</td><td>910 Vine Street </td><td>Campbell</td><td>CA</td><td>95008</td></tr><tr><td>104</td><td>Katharina</td><td>Bates</td><td>NULL</td><td>katharina.bates@gmail.com</td><td>54 South Greenview Drive </td><td>Campbell</td><td>CA</td><td>95008</td></tr><tr><td>278</td><td>Myesha</td><td>Burgess</td><td>NULL</td><td>myesha.burgess@gmail.com</td><td>306 Trenton Rd. </td><td>Campbell</td><td>CA</td><td>95008</td></tr><tr><td>554</td><td>Hilde</td><td>Nieves</td><td>NULL</td><td>hilde.nieves@gmail.com</td><td>9437 Fordham Lane </td><td>Campbell</td><td>CA</td><td>95008</td></tr><tr><td>688</td><td>Pearlie</td><td>Cochran</td><td>NULL</td><td>pearlie.cochran@msn.com</td><td>23 Homewood Rd. </td><td>Campbell</td><td>CA</td><td>95008</td></tr><tr><td>867</td><td>Rosalva</td><td>Hamilton</td><td>NULL</td><td>rosalva.hamilton@aol.com</td><td>9883 Cedar Dr. </td><td>Campbell</td><td>CA</td><td>95008</td></tr><tr><td>1035</td><td>Tangela</td><td>Hurley</td><td>NULL</td><td>tangela.hurley@msn.com</td><td>49 North Cross St. </td><td>Campbell</td><td>CA</td><td>95008</td></tr><tr><td>1231</td><td>Selene</td><td>Vega</td><td>NULL</td><td>selene.vega@gmail.com</td><td>11 Sierra St. </td><td>Campbell</td><td>CA</td><td>95008</td></tr><tr><td>1366</td><td>Trena</td><td>Rogers</td><td>NULL</td><td>trena.rogers@aol.com</td><td>502 Sherwood St. </td><td>Campbell</td><td>CA</td><td>95008</td></tr><tr><td>1367</td><td>Lucile</td><td>Manning</td><td>NULL</td><td>lucile.manning@yahoo.com</td><td>511 Livingston Lane </td><td>Campbell</td><td>CA</td><td>95008</td></tr></table>"
                    }
                }
            ],
            "execution_count": 4
        },
        {
            "cell_type": "code",
            "source": [
                ""
            ],
            "metadata": {
                "azdata_cell_guid": "f37db640-14b9-4ff6-940b-6f58cd1bf24b",
                "tags": []
            },
            "outputs": [
                {
                    "output_type": "display_data",
                    "data": {
                        "text/html": "Commands completed successfully."
                    },
                    "metadata": {}
                },
                {
                    "output_type": "display_data",
                    "data": {
                        "text/html": "Total execution time: 00:00:00"
                    },
                    "metadata": {}
                }
            ],
            "execution_count": 5
        },
        {
            "cell_type": "markdown",
            "source": [
                ""
            ],
            "metadata": {
                "azdata_cell_guid": "85f6d517-53cf-4678-81a2-84354e74dc54"
            }
        }
    ]
}